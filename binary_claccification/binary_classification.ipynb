{
 "cells": [
  {
   "cell_type": "markdown",
   "source": [
    "Author: Kaveh Mahdavi <kavehmahdavi74@yahoo.com>\n",
    "License: BSD 3 clause\n",
    "last update: 28/12/2022"
   ],
   "metadata": {
    "collapsed": false
   }
  },
  {
   "cell_type": "markdown",
   "source": [
    "# Binary Classification in TensorFlow"
   ],
   "metadata": {
    "collapsed": false
   }
  },
  {
   "cell_type": "code",
   "execution_count": 1,
   "outputs": [],
   "source": [
    "import os\n",
    "\n",
    "os.environ['TF_CPP_MIN_LOG_LEVEL'] = '3'\n",
    "import tensorflow as tf\n",
    "import pandas as pd\n",
    "import numpy as np\n",
    "from sklearn.preprocessing import StandardScaler\n",
    "from sklearn.preprocessing import LabelEncoder\n",
    "from sklearn.utils import shuffle, resample\n",
    "from sklearn.model_selection import train_test_split\n",
    "import matplotlib.pyplot as plt\n",
    "import datetime\n",
    "from mlxtend.evaluate import confusion_matrix\n",
    "from mlxtend.plotting import plot_confusion_matrix\n",
    "from sklearn.metrics import accuracy_score"
   ],
   "metadata": {
    "collapsed": false
   }
  },
  {
   "cell_type": "code",
   "execution_count": 2,
   "outputs": [],
   "source": [
    "# Classes\n",
    "class BColors:\n",
    "    HEADER = '\\033[95m'\n",
    "    OKBLUE = '\\033[94m'\n",
    "    OKCYAN = '\\033[96m'\n",
    "    OKGREEN = '\\033[92m'\n",
    "    WARNING = '\\033[93m'\n",
    "    FAIL = '\\033[91m'\n",
    "    ENDC = '\\033[0m'\n",
    "    BOLD = '\\033[1m'\n",
    "    UNDERLINE = '\\033[4m'\n",
    "\n",
    "\n",
    "# Functions\n",
    "def plot_nas(df: pd.DataFrame):\n",
    "    if df.isnull().sum().sum() != 0:\n",
    "        na_df = (df.isnull().sum() / len(df)) * 100\n",
    "        na_df = na_df.drop(na_df[na_df == 0].index).sort_values(ascending=False)\n",
    "        missing_data = pd.DataFrame({'Missing Ratio %': na_df})\n",
    "        missing_data.plot(kind=\"barh\")\n",
    "        plt.show()\n",
    "    else:\n",
    "        print(BColors.OKGREEN + 'No NaNs found' + BColors.ENDC)\n",
    "    print(df.isnull().sum())\n",
    "\n",
    "\n",
    "def plot_cm(cm, _plot=False):\n",
    "    \"\"\"\n",
    "    Returns a matplotlib figure containing the plotted confusion matrix.\n",
    "\n",
    "    Args:\n",
    "        cm (array 2d): confusion matrix\n",
    "       _plot (bool): If True, it plots the graph.\n",
    "\n",
    "    Return:\n",
    "        A figure object\n",
    "    \"\"\"\n",
    "    fig, ax = plot_confusion_matrix(conf_mat=cm)\n",
    "    if _plot:\n",
    "        plt.show()\n",
    "    else:\n",
    "        return fig\n",
    "\n",
    "\n",
    "def eval_plot(_history, xy=[], titel=None):\n",
    "    \"\"\" Plots the model history evaluation\n",
    "\n",
    "    :param _history (pandas): Includes the evaluation data\n",
    "    :param xy (list): Includes the name of the x and y features\n",
    "    :param titel (str): The plot name\n",
    "    \"\"\"\n",
    "    plt.plot(_history.history[xy[0]])\n",
    "    plt.plot(_history.history[xy[1]])\n",
    "    plt.title(titel)\n",
    "    plt.ylabel(xy[0])\n",
    "    plt.xlabel(xy[1])\n",
    "    plt.legend(['train', 'validation'], loc='upper right')\n",
    "    plt.show()"
   ],
   "metadata": {
    "collapsed": false
   }
  },
  {
   "cell_type": "markdown",
   "source": [
    "## Load Data\n"
   ],
   "metadata": {
    "collapsed": false
   }
  },
  {
   "cell_type": "markdown",
   "source": [
    "### About Dataset\n",
    "\n",
    "This data set contains details of a bank's customers and the target variable is a binary variable reflecting the fact\n",
    " whether the customer left the bank (closed his account) or he continues to be a customer."
   ],
   "metadata": {
    "collapsed": false
   }
  },
  {
   "cell_type": "code",
   "execution_count": 3,
   "outputs": [],
   "source": [
    "# Load data from Github\n",
    "data_url = 'https://raw.githubusercontent.com/kavehmahdavi/TF_Portfolio/main/data/Churn_Modelling.csv'\n",
    "data = pd.read_csv(data_url)"
   ],
   "metadata": {
    "collapsed": false
   }
  },
  {
   "cell_type": "markdown",
   "source": [
    "## Prepare and Clean Data"
   ],
   "metadata": {
    "collapsed": false
   }
  },
  {
   "cell_type": "code",
   "execution_count": 4,
   "outputs": [
    {
     "data": {
      "text/plain": "      RowNumber  CustomerId     Surname  CreditScore Geography  Gender  Age  \\\n822         823    15765311      Zhirov          642     Spain    Male   34   \n3549       3550    15647725  Napolitano          675    France  Female   61   \n5409       5410    15690939        Howe          575     Spain    Male   28   \n5730       5731    15577683     Maclean          539    France  Female   29   \n8795       8796    15716608      Walker          651     Spain    Male   38   \n\n      Tenure   Balance  NumOfProducts  HasCrCard  IsActiveMember  \\\n822        8      0.00              1          1               0   \n3549       5  62055.17              3          1               0   \n5409       7      0.00              1          1               1   \n5730       4      0.00              2          1               1   \n8795       2      0.00              3          1               0   \n\n      EstimatedSalary  Exited  \n822          72085.10       0  \n3549        166305.16       1  \n5409         10666.05       0  \n5730        100919.19       0  \n8795         67029.82       1  ",
      "text/html": "<div>\n<style scoped>\n    .dataframe tbody tr th:only-of-type {\n        vertical-align: middle;\n    }\n\n    .dataframe tbody tr th {\n        vertical-align: top;\n    }\n\n    .dataframe thead th {\n        text-align: right;\n    }\n</style>\n<table border=\"1\" class=\"dataframe\">\n  <thead>\n    <tr style=\"text-align: right;\">\n      <th></th>\n      <th>RowNumber</th>\n      <th>CustomerId</th>\n      <th>Surname</th>\n      <th>CreditScore</th>\n      <th>Geography</th>\n      <th>Gender</th>\n      <th>Age</th>\n      <th>Tenure</th>\n      <th>Balance</th>\n      <th>NumOfProducts</th>\n      <th>HasCrCard</th>\n      <th>IsActiveMember</th>\n      <th>EstimatedSalary</th>\n      <th>Exited</th>\n    </tr>\n  </thead>\n  <tbody>\n    <tr>\n      <th>822</th>\n      <td>823</td>\n      <td>15765311</td>\n      <td>Zhirov</td>\n      <td>642</td>\n      <td>Spain</td>\n      <td>Male</td>\n      <td>34</td>\n      <td>8</td>\n      <td>0.00</td>\n      <td>1</td>\n      <td>1</td>\n      <td>0</td>\n      <td>72085.10</td>\n      <td>0</td>\n    </tr>\n    <tr>\n      <th>3549</th>\n      <td>3550</td>\n      <td>15647725</td>\n      <td>Napolitano</td>\n      <td>675</td>\n      <td>France</td>\n      <td>Female</td>\n      <td>61</td>\n      <td>5</td>\n      <td>62055.17</td>\n      <td>3</td>\n      <td>1</td>\n      <td>0</td>\n      <td>166305.16</td>\n      <td>1</td>\n    </tr>\n    <tr>\n      <th>5409</th>\n      <td>5410</td>\n      <td>15690939</td>\n      <td>Howe</td>\n      <td>575</td>\n      <td>Spain</td>\n      <td>Male</td>\n      <td>28</td>\n      <td>7</td>\n      <td>0.00</td>\n      <td>1</td>\n      <td>1</td>\n      <td>1</td>\n      <td>10666.05</td>\n      <td>0</td>\n    </tr>\n    <tr>\n      <th>5730</th>\n      <td>5731</td>\n      <td>15577683</td>\n      <td>Maclean</td>\n      <td>539</td>\n      <td>France</td>\n      <td>Female</td>\n      <td>29</td>\n      <td>4</td>\n      <td>0.00</td>\n      <td>2</td>\n      <td>1</td>\n      <td>1</td>\n      <td>100919.19</td>\n      <td>0</td>\n    </tr>\n    <tr>\n      <th>8795</th>\n      <td>8796</td>\n      <td>15716608</td>\n      <td>Walker</td>\n      <td>651</td>\n      <td>Spain</td>\n      <td>Male</td>\n      <td>38</td>\n      <td>2</td>\n      <td>0.00</td>\n      <td>3</td>\n      <td>1</td>\n      <td>0</td>\n      <td>67029.82</td>\n      <td>1</td>\n    </tr>\n  </tbody>\n</table>\n</div>"
     },
     "execution_count": 4,
     "metadata": {},
     "output_type": "execute_result"
    }
   ],
   "source": [
    "# Shuffle Data\n",
    "data = shuffle(data)\n",
    "data.head()"
   ],
   "metadata": {
    "collapsed": false
   }
  },
  {
   "cell_type": "code",
   "execution_count": 5,
   "outputs": [
    {
     "name": "stdout",
     "output_type": "stream",
     "text": [
      "\u001B[92mNo NaNs found\u001B[0m\n",
      "RowNumber          0\n",
      "CustomerId         0\n",
      "Surname            0\n",
      "CreditScore        0\n",
      "Geography          0\n",
      "Gender             0\n",
      "Age                0\n",
      "Tenure             0\n",
      "Balance            0\n",
      "NumOfProducts      0\n",
      "HasCrCard          0\n",
      "IsActiveMember     0\n",
      "EstimatedSalary    0\n",
      "Exited             0\n",
      "dtype: int64\n"
     ]
    }
   ],
   "source": [
    "# Drop Nan Features\n",
    "plot_nas(data)"
   ],
   "metadata": {
    "collapsed": false
   }
  },
  {
   "cell_type": "code",
   "execution_count": 6,
   "outputs": [
    {
     "data": {
      "text/plain": "0    7963\n1    2037\nName: Exited, dtype: int64"
     },
     "execution_count": 6,
     "metadata": {},
     "output_type": "execute_result"
    }
   ],
   "source": [
    "# Balance Class\n",
    "data['Exited'].value_counts()"
   ],
   "metadata": {
    "collapsed": false
   }
  },
  {
   "cell_type": "markdown",
   "source": [
    "As you can see, only about 20% of the observations were balanced. Therefore, if we were to always predict class_1, we’d achieve an accuracy of 80%.\n",
    "We use Up-sample minority Class to balance classes."
   ],
   "metadata": {
    "collapsed": false
   }
  },
  {
   "cell_type": "code",
   "execution_count": 7,
   "outputs": [
    {
     "data": {
      "text/plain": "0    7963\n1    7963\nName: Exited, dtype: int64"
     },
     "execution_count": 7,
     "metadata": {},
     "output_type": "execute_result"
    }
   ],
   "source": [
    "# Separate majority and minority classes\n",
    "df_majority = data[data.Exited == 0]\n",
    "df_minority = data[data.Exited == 1]\n",
    "\n",
    "# Down_sample majority class\n",
    "df_minority_up_sampled = resample(df_minority,\n",
    "                                  replace=True,\n",
    "                                  n_samples=df_majority.shape[0],\n",
    "                                  random_state=4)\n",
    "\n",
    "data = pd.concat([df_majority, df_minority_up_sampled])\n",
    "data['Exited'].value_counts()"
   ],
   "metadata": {
    "collapsed": false
   }
  },
  {
   "cell_type": "markdown",
   "source": [
    "### Setup Feature and Label Data"
   ],
   "metadata": {
    "collapsed": false
   }
  },
  {
   "cell_type": "code",
   "execution_count": 8,
   "outputs": [
    {
     "data": {
      "text/plain": "CreditScore          int64\nGeography           object\nGender              object\nAge                  int64\nTenure               int64\nBalance            float64\nNumOfProducts        int64\nHasCrCard            int64\nIsActiveMember       int64\nEstimatedSalary    float64\ndtype: object"
     },
     "execution_count": 8,
     "metadata": {},
     "output_type": "execute_result"
    }
   ],
   "source": [
    "# Drop Useless columns\n",
    "features = data.drop(labels=['CustomerId', 'Surname', 'RowNumber', 'Exited'], axis=1)\n",
    "label = data['Exited']\n",
    "\n",
    "features.dtypes"
   ],
   "metadata": {
    "collapsed": false
   }
  },
  {
   "cell_type": "code",
   "execution_count": 9,
   "outputs": [
    {
     "data": {
      "text/plain": "      CreditScore  Gender  Age  Tenure   Balance  NumOfProducts  HasCrCard  \\\n822           642       1   34       8      0.00              1          1   \n5409          575       1   28       7      0.00              1          1   \n5730          539       0   29       4      0.00              2          1   \n9988          775       1   30       4      0.00              2          1   \n6851          527       0   39       9  96748.89              2          1   \n\n      IsActiveMember  EstimatedSalary  Geography_1  Geography_2  \n822                0         72085.10            0            1  \n5409               1         10666.05            0            1  \n5730               1        100919.19            0            0  \n9988               0         49337.84            0            0  \n6851               0         94711.43            1            0  ",
      "text/html": "<div>\n<style scoped>\n    .dataframe tbody tr th:only-of-type {\n        vertical-align: middle;\n    }\n\n    .dataframe tbody tr th {\n        vertical-align: top;\n    }\n\n    .dataframe thead th {\n        text-align: right;\n    }\n</style>\n<table border=\"1\" class=\"dataframe\">\n  <thead>\n    <tr style=\"text-align: right;\">\n      <th></th>\n      <th>CreditScore</th>\n      <th>Gender</th>\n      <th>Age</th>\n      <th>Tenure</th>\n      <th>Balance</th>\n      <th>NumOfProducts</th>\n      <th>HasCrCard</th>\n      <th>IsActiveMember</th>\n      <th>EstimatedSalary</th>\n      <th>Geography_1</th>\n      <th>Geography_2</th>\n    </tr>\n  </thead>\n  <tbody>\n    <tr>\n      <th>822</th>\n      <td>642</td>\n      <td>1</td>\n      <td>34</td>\n      <td>8</td>\n      <td>0.00</td>\n      <td>1</td>\n      <td>1</td>\n      <td>0</td>\n      <td>72085.10</td>\n      <td>0</td>\n      <td>1</td>\n    </tr>\n    <tr>\n      <th>5409</th>\n      <td>575</td>\n      <td>1</td>\n      <td>28</td>\n      <td>7</td>\n      <td>0.00</td>\n      <td>1</td>\n      <td>1</td>\n      <td>1</td>\n      <td>10666.05</td>\n      <td>0</td>\n      <td>1</td>\n    </tr>\n    <tr>\n      <th>5730</th>\n      <td>539</td>\n      <td>0</td>\n      <td>29</td>\n      <td>4</td>\n      <td>0.00</td>\n      <td>2</td>\n      <td>1</td>\n      <td>1</td>\n      <td>100919.19</td>\n      <td>0</td>\n      <td>0</td>\n    </tr>\n    <tr>\n      <th>9988</th>\n      <td>775</td>\n      <td>1</td>\n      <td>30</td>\n      <td>4</td>\n      <td>0.00</td>\n      <td>2</td>\n      <td>1</td>\n      <td>0</td>\n      <td>49337.84</td>\n      <td>0</td>\n      <td>0</td>\n    </tr>\n    <tr>\n      <th>6851</th>\n      <td>527</td>\n      <td>0</td>\n      <td>39</td>\n      <td>9</td>\n      <td>96748.89</td>\n      <td>2</td>\n      <td>1</td>\n      <td>0</td>\n      <td>94711.43</td>\n      <td>1</td>\n      <td>0</td>\n    </tr>\n  </tbody>\n</table>\n</div>"
     },
     "execution_count": 9,
     "metadata": {},
     "output_type": "execute_result"
    }
   ],
   "source": [
    "# Encode Categorical Variables\n",
    "cat_var = ['Gender', 'Geography']\n",
    "encoder = LabelEncoder()\n",
    "for _var in cat_var:\n",
    "    features[_var] = encoder.fit_transform(features[_var])\n",
    "\n",
    "features = pd.get_dummies(features, drop_first=True, columns=['Geography'])\n",
    "features.head()"
   ],
   "metadata": {
    "collapsed": false
   }
  },
  {
   "cell_type": "code",
   "execution_count": 10,
   "outputs": [],
   "source": [
    "# Normalize data\n",
    "scaler = StandardScaler()\n",
    "features = scaler.fit_transform(features)"
   ],
   "metadata": {
    "collapsed": false
   }
  },
  {
   "cell_type": "code",
   "execution_count": null,
   "outputs": [],
   "source": [
    "# Split Data into Train, Validation and Test\n",
    "X_train, X_test, y_train, y_test = train_test_split(features, label, test_size=0.3)\n",
    "\n",
    "# Reserve 10,000 samples for validation\n",
    "x_val = X_train[-1000:]\n",
    "y_val = y_train[-1000:]\n",
    "X_train = X_train[:-1000]\n",
    "y_train = y_train[:-1000]"
   ],
   "metadata": {
    "collapsed": false,
    "pycharm": {
     "is_executing": true
    }
   }
  },
  {
   "cell_type": "markdown",
   "source": [
    "## Create a Keras sequential model"
   ],
   "metadata": {
    "collapsed": false
   }
  },
  {
   "cell_type": "code",
   "execution_count": 12,
   "outputs": [],
   "source": [
    "# Init TensorBoard\n",
    "logdir = os.path.join(\"log\", datetime.datetime.now().strftime(\"%Y%m%d-%H%M%S\"))\n",
    "tensorboard_callback = tf.keras.callbacks.TensorBoard(logdir, histogram_freq=1)"
   ],
   "metadata": {
    "collapsed": false
   }
  },
  {
   "cell_type": "code",
   "execution_count": 13,
   "outputs": [
    {
     "name": "stdout",
     "output_type": "stream",
     "text": [
      "Model: \"sequential\"\n",
      "_________________________________________________________________\n",
      " Layer (type)                Output Shape              Param #   \n",
      "=================================================================\n",
      " dense (Dense)               (None, 128)               1536      \n",
      "                                                                 \n",
      " dropout (Dropout)           (None, 128)               0         \n",
      "                                                                 \n",
      " dense_1 (Dense)             (None, 64)                8256      \n",
      "                                                                 \n",
      " dropout_1 (Dropout)         (None, 64)                0         \n",
      "                                                                 \n",
      " dense_2 (Dense)             (None, 32)                2080      \n",
      "                                                                 \n",
      " dropout_2 (Dropout)         (None, 32)                0         \n",
      "                                                                 \n",
      " dense_3 (Dense)             (None, 1)                 33        \n",
      "                                                                 \n",
      "=================================================================\n",
      "Total params: 11,905\n",
      "Trainable params: 11,905\n",
      "Non-trainable params: 0\n",
      "_________________________________________________________________\n"
     ]
    }
   ],
   "source": [
    "# Create linear stack of layers\n",
    "bc_model = tf.keras.models.Sequential([tf.keras.layers.Dense(128, activation='relu', input_dim=X_train.shape[1]),\n",
    "                                       tf.keras.layers.Dropout(0.2),\n",
    "                                       tf.keras.layers.Dense(64, activation='relu'),\n",
    "                                       tf.keras.layers.Dropout(0.2),\n",
    "                                       tf.keras.layers.Dense(32, activation='relu'),\n",
    "                                       tf.keras.layers.Dropout(0.2),\n",
    "                                       tf.keras.layers.Dense(1, activation='sigmoid')])\n",
    "bc_model.summary()"
   ],
   "metadata": {
    "collapsed": false
   }
  },
  {
   "cell_type": "code",
   "execution_count": 14,
   "outputs": [],
   "source": [
    "# Compiling Model\n",
    "bc_model.compile(loss='binary_crossentropy',\n",
    "                 optimizer='adam',\n",
    "                 metrics=['accuracy'])"
   ],
   "metadata": {
    "collapsed": false
   }
  },
  {
   "cell_type": "code",
   "execution_count": 15,
   "outputs": [
    {
     "name": "stdout",
     "output_type": "stream",
     "text": [
      "Epoch 1/50\n",
      "318/318 [==============================] - 3s 5ms/step - loss: 0.5803 - accuracy: 0.6965 - val_loss: 0.5058 - val_accuracy: 0.7570\n",
      "Epoch 2/50\n",
      "318/318 [==============================] - 1s 4ms/step - loss: 0.5061 - accuracy: 0.7533 - val_loss: 0.4751 - val_accuracy: 0.7760\n",
      "Epoch 3/50\n",
      "318/318 [==============================] - 1s 4ms/step - loss: 0.4798 - accuracy: 0.7654 - val_loss: 0.4789 - val_accuracy: 0.7790\n",
      "Epoch 4/50\n",
      "318/318 [==============================] - 1s 5ms/step - loss: 0.4682 - accuracy: 0.7744 - val_loss: 0.4741 - val_accuracy: 0.7810\n",
      "Epoch 5/50\n",
      "318/318 [==============================] - 1s 4ms/step - loss: 0.4580 - accuracy: 0.7791 - val_loss: 0.4701 - val_accuracy: 0.7770\n",
      "Epoch 6/50\n",
      "318/318 [==============================] - 1s 4ms/step - loss: 0.4554 - accuracy: 0.7795 - val_loss: 0.4677 - val_accuracy: 0.7820\n",
      "Epoch 7/50\n",
      "318/318 [==============================] - 1s 4ms/step - loss: 0.4515 - accuracy: 0.7844 - val_loss: 0.4703 - val_accuracy: 0.7760\n",
      "Epoch 8/50\n",
      "318/318 [==============================] - 1s 4ms/step - loss: 0.4435 - accuracy: 0.7903 - val_loss: 0.4673 - val_accuracy: 0.7780\n",
      "Epoch 9/50\n",
      "318/318 [==============================] - 1s 4ms/step - loss: 0.4432 - accuracy: 0.7895 - val_loss: 0.4652 - val_accuracy: 0.7820\n",
      "Epoch 10/50\n",
      "318/318 [==============================] - 1s 4ms/step - loss: 0.4362 - accuracy: 0.7914 - val_loss: 0.4754 - val_accuracy: 0.7800\n",
      "Epoch 11/50\n",
      "318/318 [==============================] - 1s 4ms/step - loss: 0.4366 - accuracy: 0.7922 - val_loss: 0.4612 - val_accuracy: 0.7830\n",
      "Epoch 12/50\n",
      "318/318 [==============================] - 1s 4ms/step - loss: 0.4301 - accuracy: 0.7994 - val_loss: 0.4603 - val_accuracy: 0.7820\n",
      "Epoch 13/50\n",
      "318/318 [==============================] - 1s 4ms/step - loss: 0.4288 - accuracy: 0.7995 - val_loss: 0.4565 - val_accuracy: 0.7820\n",
      "Epoch 14/50\n",
      "318/318 [==============================] - 1s 4ms/step - loss: 0.4233 - accuracy: 0.7991 - val_loss: 0.4583 - val_accuracy: 0.7860\n",
      "Epoch 15/50\n",
      "318/318 [==============================] - 1s 5ms/step - loss: 0.4227 - accuracy: 0.7978 - val_loss: 0.4565 - val_accuracy: 0.7940\n",
      "Epoch 16/50\n",
      "318/318 [==============================] - 2s 5ms/step - loss: 0.4119 - accuracy: 0.8046 - val_loss: 0.4556 - val_accuracy: 0.7900\n",
      "Epoch 17/50\n",
      "318/318 [==============================] - 1s 4ms/step - loss: 0.4150 - accuracy: 0.7987 - val_loss: 0.4532 - val_accuracy: 0.7940\n",
      "Epoch 18/50\n",
      "318/318 [==============================] - 1s 4ms/step - loss: 0.4150 - accuracy: 0.8032 - val_loss: 0.4564 - val_accuracy: 0.7860\n",
      "Epoch 19/50\n",
      "318/318 [==============================] - 1s 4ms/step - loss: 0.4054 - accuracy: 0.8096 - val_loss: 0.4539 - val_accuracy: 0.7960\n",
      "Epoch 20/50\n",
      "318/318 [==============================] - 2s 5ms/step - loss: 0.4090 - accuracy: 0.8078 - val_loss: 0.4525 - val_accuracy: 0.8000\n",
      "Epoch 21/50\n",
      "318/318 [==============================] - 2s 5ms/step - loss: 0.4034 - accuracy: 0.8110 - val_loss: 0.4516 - val_accuracy: 0.7960\n",
      "Epoch 22/50\n",
      "318/318 [==============================] - 1s 5ms/step - loss: 0.4029 - accuracy: 0.8078 - val_loss: 0.4508 - val_accuracy: 0.8040\n",
      "Epoch 23/50\n",
      "318/318 [==============================] - 1s 4ms/step - loss: 0.3966 - accuracy: 0.8090 - val_loss: 0.4475 - val_accuracy: 0.8000\n",
      "Epoch 24/50\n",
      "318/318 [==============================] - 1s 4ms/step - loss: 0.3947 - accuracy: 0.8115 - val_loss: 0.4429 - val_accuracy: 0.8020\n",
      "Epoch 25/50\n",
      "318/318 [==============================] - 1s 4ms/step - loss: 0.3903 - accuracy: 0.8180 - val_loss: 0.4415 - val_accuracy: 0.8080\n",
      "Epoch 26/50\n",
      "318/318 [==============================] - 1s 4ms/step - loss: 0.3873 - accuracy: 0.8177 - val_loss: 0.4400 - val_accuracy: 0.8020\n",
      "Epoch 27/50\n",
      "318/318 [==============================] - 2s 5ms/step - loss: 0.3867 - accuracy: 0.8163 - val_loss: 0.4420 - val_accuracy: 0.8050\n",
      "Epoch 28/50\n",
      "318/318 [==============================] - 2s 5ms/step - loss: 0.3873 - accuracy: 0.8165 - val_loss: 0.4411 - val_accuracy: 0.8040\n",
      "Epoch 29/50\n",
      "318/318 [==============================] - 1s 4ms/step - loss: 0.3835 - accuracy: 0.8173 - val_loss: 0.4428 - val_accuracy: 0.8110\n",
      "Epoch 30/50\n",
      "318/318 [==============================] - 1s 4ms/step - loss: 0.3775 - accuracy: 0.8222 - val_loss: 0.4483 - val_accuracy: 0.8070\n",
      "Epoch 31/50\n",
      "318/318 [==============================] - 1s 4ms/step - loss: 0.3800 - accuracy: 0.8243 - val_loss: 0.4471 - val_accuracy: 0.8060\n",
      "Epoch 32/50\n",
      "318/318 [==============================] - 1s 4ms/step - loss: 0.3749 - accuracy: 0.8245 - val_loss: 0.4467 - val_accuracy: 0.8100\n",
      "Epoch 33/50\n",
      "318/318 [==============================] - 1s 4ms/step - loss: 0.3791 - accuracy: 0.8235 - val_loss: 0.4339 - val_accuracy: 0.8160\n",
      "Epoch 34/50\n",
      "318/318 [==============================] - 1s 4ms/step - loss: 0.3724 - accuracy: 0.8251 - val_loss: 0.4348 - val_accuracy: 0.8120\n",
      "Epoch 35/50\n",
      "318/318 [==============================] - 1s 4ms/step - loss: 0.3712 - accuracy: 0.8278 - val_loss: 0.4334 - val_accuracy: 0.8220\n",
      "Epoch 36/50\n",
      "318/318 [==============================] - 1s 3ms/step - loss: 0.3692 - accuracy: 0.8319 - val_loss: 0.4396 - val_accuracy: 0.8120\n",
      "Epoch 37/50\n",
      "318/318 [==============================] - 1s 4ms/step - loss: 0.3706 - accuracy: 0.8304 - val_loss: 0.4346 - val_accuracy: 0.8160\n",
      "Epoch 38/50\n",
      "318/318 [==============================] - 1s 4ms/step - loss: 0.3678 - accuracy: 0.8341 - val_loss: 0.4398 - val_accuracy: 0.8150\n",
      "Epoch 39/50\n",
      "318/318 [==============================] - 1s 5ms/step - loss: 0.3624 - accuracy: 0.8321 - val_loss: 0.4222 - val_accuracy: 0.8110\n",
      "Epoch 40/50\n",
      "318/318 [==============================] - 1s 4ms/step - loss: 0.3624 - accuracy: 0.8353 - val_loss: 0.4371 - val_accuracy: 0.8200\n",
      "Epoch 41/50\n",
      "318/318 [==============================] - 1s 3ms/step - loss: 0.3619 - accuracy: 0.8362 - val_loss: 0.4327 - val_accuracy: 0.8140\n",
      "Epoch 42/50\n",
      "318/318 [==============================] - 1s 3ms/step - loss: 0.3591 - accuracy: 0.8350 - val_loss: 0.4404 - val_accuracy: 0.8080\n",
      "Epoch 43/50\n",
      "318/318 [==============================] - 1s 4ms/step - loss: 0.3588 - accuracy: 0.8369 - val_loss: 0.4317 - val_accuracy: 0.8190\n",
      "Epoch 44/50\n",
      "318/318 [==============================] - 1s 4ms/step - loss: 0.3566 - accuracy: 0.8355 - val_loss: 0.4348 - val_accuracy: 0.8240\n",
      "Epoch 45/50\n",
      "318/318 [==============================] - 1s 4ms/step - loss: 0.3497 - accuracy: 0.8376 - val_loss: 0.4302 - val_accuracy: 0.8190\n",
      "Epoch 46/50\n",
      "318/318 [==============================] - 1s 4ms/step - loss: 0.3502 - accuracy: 0.8407 - val_loss: 0.4323 - val_accuracy: 0.8160\n",
      "Epoch 47/50\n",
      "318/318 [==============================] - 1s 4ms/step - loss: 0.3560 - accuracy: 0.8334 - val_loss: 0.4289 - val_accuracy: 0.8190\n",
      "Epoch 48/50\n",
      "318/318 [==============================] - 1s 4ms/step - loss: 0.3514 - accuracy: 0.8400 - val_loss: 0.4255 - val_accuracy: 0.8190\n",
      "Epoch 49/50\n",
      "318/318 [==============================] - 1s 4ms/step - loss: 0.3471 - accuracy: 0.8414 - val_loss: 0.4233 - val_accuracy: 0.8300\n",
      "Epoch 50/50\n",
      "318/318 [==============================] - 1s 4ms/step - loss: 0.3477 - accuracy: 0.8440 - val_loss: 0.4184 - val_accuracy: 0.8250\n"
     ]
    }
   ],
   "source": [
    "# Train Model\n",
    "history = bc_model.fit(X_train, y_train,\n",
    "                       batch_size=32,\n",
    "                       epochs=50,\n",
    "                       validation_data=(x_val, y_val),\n",
    "                       verbose=1,\n",
    "                       callbacks=[tensorboard_callback])"
   ],
   "metadata": {
    "collapsed": false
   }
  },
  {
   "cell_type": "code",
   "execution_count": 16,
   "outputs": [
    {
     "data": {
      "text/plain": "Launching TensorBoard..."
     },
     "metadata": {},
     "output_type": "display_data"
    }
   ],
   "source": [
    "# Load tensorboard\n",
    "%load_ext tensorboard\n",
    "%tensorboard --logdir log"
   ],
   "metadata": {
    "collapsed": false
   }
  },
  {
   "cell_type": "code",
   "execution_count": 17,
   "outputs": [
    {
     "data": {
      "text/plain": "<Figure size 640x480 with 1 Axes>",
      "image/png": "[encoded data removed]"
     },
     "metadata": {},
     "output_type": "display_data"
    },
    {
     "data": {
      "text/plain": "<Figure size 640x480 with 1 Axes>",
      "image/png": "[encoded data removed]"
     },
     "metadata": {},
     "output_type": "display_data"
    }
   ],
   "source": [
    "# Evaluate Model\n",
    "eval_plot(history, ['loss', 'val_loss'], 'Loss')\n",
    "eval_plot(history, ['accuracy', 'val_accuracy'], 'Accuracy')"
   ],
   "metadata": {
    "collapsed": false
   }
  },
  {
   "cell_type": "code",
   "execution_count": 18,
   "outputs": [
    {
     "name": "stdout",
     "output_type": "stream",
     "text": [
      "150/150 [==============================] - 0s 2ms/step - loss: 0.3735 - accuracy: 0.8309\n",
      "Test Loss:  0.37354955077171326\n",
      "Test accuracy:  83.08916091918945\n"
     ]
    }
   ],
   "source": [
    "# Test Model\n",
    "test_scores = bc_model.evaluate(X_test, y_test)\n",
    "print('Test Loss: ', test_scores[0])\n",
    "print('Test accuracy: ', test_scores[1] * 100)"
   ],
   "metadata": {
    "collapsed": false
   }
  }
 ],
 "metadata": {
  "kernelspec": {
   "display_name": "Python 3",
   "language": "python",
   "name": "python3"
  },
  "language_info": {
   "codemirror_mode": {
    "name": "ipython",
    "version": 2
   },
   "file_extension": ".py",
   "mimetype": "text/x-python",
   "name": "python",
   "nbconvert_exporter": "python",
   "pygments_lexer": "ipython2",
   "version": "2.7.6"
  }
 },
 "nbformat": 4,
 "nbformat_minor": 0
}
